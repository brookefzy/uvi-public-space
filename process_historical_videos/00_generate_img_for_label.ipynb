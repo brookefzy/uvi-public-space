{
 "cells": [
  {
   "cell_type": "code",
   "execution_count": null,
   "metadata": {},
   "outputs": [],
   "source": [
    "import glob, os\n",
    "import pandas as pd\n",
    "import cv2\n",
    "import numpy as np\n",
    "from cv2 import __version__\n",
    "print(__version__)\n",
    "\n",
    "original_video = \"../../_data/08_historical_valid_scene/Scenes\"\n",
    "enlarged_video = \"../../_data/08_historical_valid_scene/video_enlarged\"\n",
    "original_video_r = \"../../_data/08_historical_valid_scene/Scenes_r\"\n"
   ]
  },
  {
   "cell_type": "code",
   "execution_count": null,
   "metadata": {},
   "outputs": [],
   "source": [
    "exception in os.listdir(\"../../_data/00_raw/videos_old_highres/\")"
   ]
  },
  {
   "cell_type": "code",
   "execution_count": null,
   "metadata": {},
   "outputs": [],
   "source": [
    "videols = os.listdir(enlarged_video)\n",
    "videols = [\n",
    "    'B10_G2_Env5_0001-Scene-006.mp4',\n",
    " 'B11_G1_Env23_0001-Scene-004.mp4',\n",
    " 'B16_G10_Env12_0001-Scene-003.mp4',\n",
    " 'B16_G8_Env5_0001-Scene-003.mp4',\n",
    "#  'B16_G8_Env5_0001-Scene-003.mp4',\n",
    " 'B16_G8_Env5_0001-Scene-005.mp4',\n",
    " 'B16_G9_Env11_0001-Scene-002.mp4',\n",
    " 'B18_G1_Env15_0001-Scene-007.mp4',\n",
    " 'B16_G8_Env2-Scene-005.mp4']\n",
    "exception = \"B11_G1_Env3_0001.avi\""
   ]
  },
  {
   "cell_type": "code",
   "execution_count": null,
   "metadata": {},
   "outputs": [],
   "source": [
    "\n",
    "\n",
    "# this video needs to be cropped to scene first\n",
    "path_to_video = \"../../_data/00_raw/videos_old_highres/\"+exception\n",
    "# save the cropped video to original_video\n",
    "# clip from the 3rd second to the last second\n",
    "def getbasics(file_path):\n",
    "    video = cv2.VideoCapture(file_path)\n",
    "    fps = video.get(cv2.CAP_PROP_FPS)\n",
    "    length = int(video.get(cv2.CAP_PROP_FRAME_COUNT))\n",
    "    print('frames per second =',fps)\n",
    "    size = (int(video.get(cv2.CAP_PROP_FRAME_WIDTH)), int(video.get(cv2.CAP_PROP_FRAME_HEIGHT)))\n",
    "    print('frames size =',size)\n",
    "    # video.release()\n",
    "    return video, fps, size, length\n",
    "\n",
    "video, fps, size, length = getbasics(path_to_video)\n",
    "print(fps)\n",
    "startingframe = int(fps*3)\n",
    "video.set(cv2.CAP_PROP_POS_FRAMES, startingframe)\n",
    "fourcc = cv2.VideoWriter_fourcc(*'MP4V')\n",
    "video_out_name = exception.split('.')[0]+\"-Scene-001\"\n",
    "\n",
    "vizfolder = \"../../_data/03_tracking_result/_old_videos_viz\"\n",
    "video_out = cv2.VideoWriter(os.path.join(original_video, \n",
    "                                         f\"{video_out_name}.mp4\"), fourcc, fps, size)\n",
    "ret = True\n",
    "count = 0\n",
    "while ret:\n",
    "    ret, frame = video.read()\n",
    "    # flip the frame vertically\n",
    "    frame = cv2.rotate(frame, cv2.ROTATE_180)\n",
    "    frame = cv2.flip(frame, 1)\n",
    "    video_out.write(frame) \n",
    "    count = count+1\n",
    "    # print(ret)\n",
    "video_out.release()\n"
   ]
  },
  {
   "cell_type": "code",
   "execution_count": null,
   "metadata": {},
   "outputs": [],
   "source": [
    "framefolder_root = \"../../_data/08_historical_valid_scene/frames_to_label2\" # interval 5\n",
    "# framefolder_root = \"../../_data/08_historical_valid_scene/frames_to_test\"\n",
    "if not os.path.exists(framefolder_root):\n",
    "    os.makedirs(framefolder_root)"
   ]
  },
  {
   "cell_type": "code",
   "execution_count": null,
   "metadata": {},
   "outputs": [],
   "source": [
    "def get_sample_frames(video_path, framefolder_root):\n",
    "    videoname = video_path.split(\".\")[0]\n",
    "    framefolder = os.path.join(framefolder_root, videoname)\n",
    "    if not os.path.exists(framefolder):\n",
    "        os.makedirs(framefolder)\n",
    "        \n",
    "    video = cv2.VideoCapture(os.path.join(original_video_r, video_path))\n",
    "    fps = video.get(cv2.CAP_PROP_FPS)\n",
    "    print(\"FPS of video \", videoname, \": \", fps)\n",
    "    size = (int(video.get(cv2.CAP_PROP_FRAME_WIDTH)), int(video.get(cv2.CAP_PROP_FRAME_HEIGHT)))\n",
    "    print(\"Size of video \", videoname, \": \", size)\n",
    "    # count = 0\n",
    "    # ret, frame = video.read()\n",
    "    # count += 1\n",
    "    # ret, frame = video.read()\n",
    "    # count += 1\n",
    "    count = 10\n",
    "    video.set(cv2.CAP_PROP_POS_FRAMES, count)\n",
    "    \n",
    "    ret = True\n",
    "    while ret:\n",
    "        count += 1\n",
    "        if count % 25 == 0:\n",
    "            print(\"Frame \", count)\n",
    "            ret, frame = video.read()\n",
    "            # flip frame vertical\n",
    "            # frame = cv2.flip(frame, 0)\n",
    "            # frame = cv2.flip(frame, 1)\n",
    "            \n",
    "            cv2.imwrite(os.path.join(framefolder, f\"{videoname}_{count}.jpg\"), frame)\n",
    "        else:\n",
    "            ret, frame = video.read()\n",
    "    video.release()\n",
    "    \n",
    "for video_path in [\"B11_G1_Env3_0001-Scene-001.mp4\"]:\n",
    "    # video_path = os.path.join(enlarged_video, vid)\n",
    "    get_sample_frames(video_path, framefolder_root)"
   ]
  },
  {
   "cell_type": "code",
   "execution_count": null,
   "metadata": {},
   "outputs": [],
   "source": [
    "video = cv2.VideoCapture(os.path.join(original_video_r, video_path))\n",
    "fps = video.get(cv2.CAP_PROP_FPS)\n",
    "videoname = video_path.split(\".\")[0]\n",
    "print(\"FPS of video \", videoname, \": \", fps)"
   ]
  },
  {
   "cell_type": "code",
   "execution_count": null,
   "metadata": {},
   "outputs": [],
   "source": []
  }
 ],
 "metadata": {
  "kernelspec": {
   "display_name": "geo38",
   "language": "python",
   "name": "python3"
  },
  "language_info": {
   "codemirror_mode": {
    "name": "ipython",
    "version": 3
   },
   "file_extension": ".py",
   "mimetype": "text/x-python",
   "name": "python",
   "nbconvert_exporter": "python",
   "pygments_lexer": "ipython3",
   "version": "3.8.13"
  },
  "orig_nbformat": 4
 },
 "nbformat": 4,
 "nbformat_minor": 2
}
