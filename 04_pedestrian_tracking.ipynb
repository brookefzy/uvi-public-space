{
 "cells": [
  {
   "cell_type": "code",
   "execution_count": 12,
   "id": "823685a2-5f04-4906-ad31-f427ed3bf637",
   "metadata": {},
   "outputs": [],
   "source": [
    "import glob, os\n",
    "import pandas as pd\n",
    "import cv2\n",
    "import numpy as np\n",
    "from cv2 import __version__"
   ]
  },
  {
   "cell_type": "markdown",
   "id": "a576f8cb-ff46-42aa-991d-ae9baed8e426",
   "metadata": {},
   "source": [
    "# Goal: this notebook set up the video directory and send for pedestrian tracking and attribute detection"
   ]
  },
  {
   "cell_type": "code",
   "execution_count": null,
   "id": "c3e448ff-6623-4c7d-afe7-d867ae30ec91",
   "metadata": {},
   "outputs": [],
   "source": [
    "# This notebook use paddle_detection: https://github.com/PaddlePaddle/PaddleDetection/blob/05ab413e2b5406416733ca1674e954fc80638fed/deploy/python/README.md"
   ]
  },
  {
   "cell_type": "code",
   "execution_count": 18,
   "id": "0c2030a1-883b-4524-887c-ca1f20311a8f",
   "metadata": {},
   "outputs": [],
   "source": [
    "videofolder = \"/lustre1/u/yuanzf/05_WW/_raw/videos_current/bryant_park/\"\n",
    "videos = os.listdir(videofolder)\n",
    "videonames = [x[:-4] for x in videos]\n",
    "allfiles = glob.glob(videofolder+\"/*\")\n",
    "allfiles.sort()"
   ]
  },
  {
   "cell_type": "code",
   "execution_count": 20,
   "id": "52fa667e-fe78-49f4-903a-21d123c72e06",
   "metadata": {},
   "outputs": [],
   "source": [
    "# create scripts for batch processing\n",
    "with open(\"./04_human_attr.sh\", \"w\") as the_file:\n",
    "    for video_file in allfiles:\n",
    "        lines = f\"\"\"\n",
    "        python deploy/pipeline/pipeline_zf.py \\\n",
    "            --config deploy/pipeline/config/infer_cfg_pphuman.yml \\\n",
    "            -o ATTR.model_dir=output_inference/PPLCNet_x1_0_person_attribute_945_infer/ \\\n",
    "            --video_file={video_file} \\\n",
    "            --device=gpu\n",
    "        \"\"\"\n",
    "        the_file.write(lines+\"\\n\")"
   ]
  },
  {
   "cell_type": "code",
   "execution_count": null,
   "id": "2d175c27-1c3a-4275-bd3a-6f38ab51d8bf",
   "metadata": {},
   "outputs": [],
   "source": []
  }
 ],
 "metadata": {
  "kernelspec": {
   "display_name": "video_augment",
   "language": "python",
   "name": "video_augment"
  },
  "language_info": {
   "codemirror_mode": {
    "name": "ipython",
    "version": 3
   },
   "file_extension": ".py",
   "mimetype": "text/x-python",
   "name": "python",
   "nbconvert_exporter": "python",
   "pygments_lexer": "ipython3",
   "version": "3.8.13"
  }
 },
 "nbformat": 4,
 "nbformat_minor": 5
}
